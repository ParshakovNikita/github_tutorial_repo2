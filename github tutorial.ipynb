{
 "cells": [
  {
   "cell_type": "markdown",
   "metadata": {},
   "source": [
    "Git commands\n",
    "\n",
    "Clone - bring a repository that is hosted somewhere like Github into a folder on your local machine\n",
    "add - track your files and changes in Git\n",
    "commit - save your files in Git\n",
    "push - upload Git commits to a remote repo, like Github\n",
    "pull - Download changes from remote repo to your local machine, the opposite of push"
   ]
  },
  {
   "cell_type": "markdown",
   "metadata": {},
   "source": [
    "Ссылка на презу Сурова: \n",
    "\n",
    "https://docs.google.com/presentation/d/1Bo5FnMGphBVMG2JAgoMFqPtCULn5An9HVczOkTfw-Hw/edit#slide=id.g29829acf288_0_0"
   ]
  },
  {
   "cell_type": "markdown",
   "metadata": {},
   "source": []
  }
 ],
 "metadata": {
  "language_info": {
   "name": "python"
  }
 },
 "nbformat": 4,
 "nbformat_minor": 2
}
